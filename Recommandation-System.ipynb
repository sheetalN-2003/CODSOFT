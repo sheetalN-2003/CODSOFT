{
 "cells": [
  {
   "cell_type": "code",
   "execution_count": 16,
   "id": "5ef83147-49ab-4919-b829-c0550ab3a54b",
   "metadata": {},
   "outputs": [
    {
     "name": "stderr",
     "output_type": "stream",
     "text": [
      "C:\\Users\\sheet\\anaconda\\Lib\\site-packages\\sklearn\\feature_extraction\\text.py:521: UserWarning: The parameter 'token_pattern' will not be used since 'tokenizer' is not None'\n",
      "  warnings.warn(\n"
     ]
    },
    {
     "name": "stdout",
     "output_type": "stream",
     "text": [
      "Welcome to the Movie Recommendation System!\n",
      "\n",
      "Choose an option:\n",
      "1. Content-Based Recommendations (based on a movie title)\n",
      "2. Collaborative Filtering Recommendations (based on user ratings)\n",
      "0. Exit\n"
     ]
    },
    {
     "name": "stdin",
     "output_type": "stream",
     "text": [
      "Enter your choice (1, 2, or 0 to exit):  1\n"
     ]
    },
    {
     "name": "stdout",
     "output_type": "stream",
     "text": [
      "\n",
      "Movies available for recommendation:\n",
      "['Inception', 'The Dark Knight', 'Interstellar', 'The Prestige', 'Memento']\n"
     ]
    },
    {
     "name": "stdin",
     "output_type": "stream",
     "text": [
      "Enter a movie title from the above list:  Inception\n"
     ]
    },
    {
     "name": "stdout",
     "output_type": "stream",
     "text": [
      "\n",
      "Content-Based Recommendations for 'Inception':\n",
      "- Memento (Mystery,Thriller): A man with short-term memory loss attempts to find his wife's killer.\n",
      "- Interstellar (Adventure,Drama,Sci-Fi): A team of explorers travels through a wormhole in search of a new home for humanity.\n",
      "- The Prestige (Drama,Mystery,Sci-Fi): A prestigious magician suffers personal loss while competing with a rival magician.\n",
      "\n",
      "Choose an option:\n",
      "1. Content-Based Recommendations (based on a movie title)\n",
      "2. Collaborative Filtering Recommendations (based on user ratings)\n",
      "0. Exit\n"
     ]
    },
    {
     "name": "stdin",
     "output_type": "stream",
     "text": [
      "Enter your choice (1, 2, or 0 to exit):  2\n"
     ]
    },
    {
     "name": "stdout",
     "output_type": "stream",
     "text": [
      "\n",
      "Users available for recommendations:\n",
      "[1, 2, 3, 4, 5]\n"
     ]
    },
    {
     "name": "stdin",
     "output_type": "stream",
     "text": [
      "Enter a User ID from the above list:  3\n"
     ]
    },
    {
     "name": "stdout",
     "output_type": "stream",
     "text": [
      "\n",
      "Collaborative Filtering Recommendations for User 3:\n",
      "- Inception (Sci-Fi,Thriller): Predicted Rating = 1.15\n",
      "- Interstellar (Adventure,Drama,Sci-Fi): Predicted Rating = 0.92\n",
      "- The Prestige (Drama,Mystery,Sci-Fi): Predicted Rating = 0.00\n",
      "\n",
      "Choose an option:\n",
      "1. Content-Based Recommendations (based on a movie title)\n",
      "2. Collaborative Filtering Recommendations (based on user ratings)\n",
      "0. Exit\n"
     ]
    },
    {
     "name": "stdin",
     "output_type": "stream",
     "text": [
      "Enter your choice (1, 2, or 0 to exit):  0\n"
     ]
    },
    {
     "name": "stdout",
     "output_type": "stream",
     "text": [
      "Thank you for using the Movie Recommendation System! Goodbye!\n"
     ]
    }
   ],
   "source": [
    "import pandas as pd\n",
    "from sklearn.metrics.pairwise import cosine_similarity\n",
    "from sklearn.feature_extraction.text import CountVectorizer\n",
    "import numpy as np\n",
    "\n",
    "movies = {\n",
    "    \"MovieID\": [1, 2, 3, 4, 5],\n",
    "    \"Title\": [\"Inception\", \"The Dark Knight\", \"Interstellar\", \"The Prestige\", \"Memento\"],\n",
    "    \"Genres\": [\"Sci-Fi, Thriller\", \"Action, Crime, Drama\", \"Adventure, Drama, Sci-Fi\", \"Drama, Mystery, Sci-Fi\", \"Mystery, Thriller\"],\n",
    "    \"Descriptions\": [\n",
    "        \"A dream thief who steals corporate secrets through the use of dream-sharing technology is given the inverse task of planting an idea into the mind of a CEO.\",\n",
    "        \"When the Batman's mysterious enemy, Joker, leaves a trail of devastating chaos, Batman is forced to face everything he holds near and dear.\",\n",
    "        \"A team of explorers travels through a wormhole in search of a new home for humanity.\",\n",
    "        \"A prestigious magician suffers personal loss while competing with a rival magician.\",\n",
    "        \"A man with short-term memory loss attempts to find his wife's killer.\"\n",
    "    ]\n",
    "}\n",
    "\n",
    "ratings = {\n",
    "    \"UserID\": [1, 1, 1, 2, 2, 3, 3, 4, 4, 5],\n",
    "    \"MovieID\": [1, 2, 3, 1, 4, 2, 5, 3, 4, 5],\n",
    "    \"Rating\": [5, 4, 4, 5, 4, 5, 3, 4, 5, 4]\n",
    "}\n",
    "\n",
    "movies_df = pd.DataFrame(movies)\n",
    "ratings_df = pd.DataFrame(ratings)\n",
    "\n",
    "movie_ratings = pd.merge(ratings_df, movies_df, on=\"MovieID\")\n",
    "\n",
    "user_item_matrix = movie_ratings.pivot_table(index=\"UserID\", columns=\"Title\", values=\"Rating\").fillna(0)\n",
    "\n",
    "user_similarity = cosine_similarity(user_item_matrix)\n",
    "user_similarity_df = pd.DataFrame(user_similarity, index=user_item_matrix.index, columns=user_item_matrix.index)\n",
    "\n",
    "movies_df[\"Genres\"] = movies_df[\"Genres\"].str.replace(\" \", \"\") \n",
    "count_vectorizer = CountVectorizer(tokenizer=lambda x: x.split(\",\"))\n",
    "genre_matrix = count_vectorizer.fit_transform(movies_df[\"Genres\"])\n",
    "cosine_sim = cosine_similarity(genre_matrix, genre_matrix)\n",
    "\n",
    "def recommend_collaborative(user_id, user_similarity_df=user_similarity_df, user_item_matrix=user_item_matrix):\n",
    "    similar_users = user_similarity_df[user_id]\n",
    "    weighted_ratings = np.dot(similar_users, user_item_matrix.fillna(0))\n",
    "    avg_ratings = weighted_ratings / similar_users.sum()\n",
    "    user_movies = user_item_matrix.loc[user_id]\n",
    "    unrated_movies = user_movies[user_movies == 0]\n",
    "    recommendations = pd.Series(avg_ratings, index=user_item_matrix.columns).loc[unrated_movies.index]\n",
    "    recommendations = recommendations.sort_values(ascending=False).head(3)\n",
    "    return recommendations\n",
    "\n",
    "def recommend_content(movie_title, cosine_sim=cosine_sim, df=movies_df):\n",
    "    idx = df[df[\"Title\"] == movie_title].index[0]\n",
    "    sim_scores = list(enumerate(cosine_sim[idx]))\n",
    "    sim_scores = sorted(sim_scores, key=lambda x: x[1], reverse=True)\n",
    "    sim_scores = sim_scores[1:4]  # Skip the first result (itself)\n",
    "    movie_indices = [i[0] for i in sim_scores]\n",
    "    return df.iloc[movie_indices][[\"Title\", \"Genres\", \"Descriptions\"]]\n",
    "\n",
    "def interactive_recommendation():\n",
    "    print(\"Welcome to the Movie Recommendation System!\")\n",
    "    \n",
    "    while True:\n",
    "        print(\"\\nChoose an option:\")\n",
    "        print(\"1. Content-Based Recommendations (based on a movie title)\")\n",
    "        print(\"2. Collaborative Filtering Recommendations (based on user ratings)\")\n",
    "        print(\"0. Exit\")\n",
    "        \n",
    "        try:\n",
    "            choice = int(input(\"Enter your choice (1, 2, or 0 to exit): \"))\n",
    "            if choice == 1:\n",
    "                print(\"\\nMovies available for recommendation:\")\n",
    "                print(movies_df[\"Title\"].tolist())\n",
    "                movie_title = input(\"Enter a movie title from the above list: \").strip()\n",
    "                if movie_title in movies_df[\"Title\"].values:\n",
    "                    recommendations = recommend_content(movie_title)\n",
    "                    print(f\"\\nContent-Based Recommendations for '{movie_title}':\")\n",
    "                    for _, row in recommendations.iterrows():\n",
    "                        print(f\"- {row['Title']} ({row['Genres']}): {row['Descriptions']}\")\n",
    "                else:\n",
    "                    print(\"Invalid movie title. Please try again.\")\n",
    "            \n",
    "            elif choice == 2:\n",
    "                print(\"\\nUsers available for recommendations:\")\n",
    "                print(user_item_matrix.index.tolist())\n",
    "                user_id = int(input(\"Enter a User ID from the above list: \"))\n",
    "                if user_id in user_item_matrix.index:\n",
    "                    recommendations = recommend_collaborative(user_id)\n",
    "                    print(f\"\\nCollaborative Filtering Recommendations for User {user_id}:\")\n",
    "                    for movie, predicted_rating in recommendations.items():\n",
    "                        movie_details = movies_df[movies_df[\"Title\"] == movie].iloc[0]\n",
    "                        print(f\"- {movie_details['Title']} ({movie_details['Genres']}): Predicted Rating = {predicted_rating:.2f}\")\n",
    "                else:\n",
    "                    print(\"Invalid User ID. Please try again.\")\n",
    "            \n",
    "            elif choice == 0:\n",
    "                print(\"Thank you for using the Movie Recommendation System! Goodbye!\")\n",
    "                break\n",
    "            \n",
    "            else:\n",
    "                print(\"Invalid choice. Please enter 1, 2, or 0.\")\n",
    "\n",
    "        except ValueError:\n",
    "            print(\"Invalid input. Please enter a number (1, 2, or 0).\")\n",
    "\n",
    "interactive_recommendation()\n"
   ]
  },
  {
   "cell_type": "code",
   "execution_count": null,
   "id": "abf4d58e-bd57-4cbe-905a-c723d950bc5d",
   "metadata": {},
   "outputs": [],
   "source": []
  }
 ],
 "metadata": {
  "kernelspec": {
   "display_name": "Python 3 (ipykernel)",
   "language": "python",
   "name": "python3"
  },
  "language_info": {
   "codemirror_mode": {
    "name": "ipython",
    "version": 3
   },
   "file_extension": ".py",
   "mimetype": "text/x-python",
   "name": "python",
   "nbconvert_exporter": "python",
   "pygments_lexer": "ipython3",
   "version": "3.12.7"
  }
 },
 "nbformat": 4,
 "nbformat_minor": 5
}
