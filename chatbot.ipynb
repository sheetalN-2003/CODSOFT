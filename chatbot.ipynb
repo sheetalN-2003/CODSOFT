{
 "cells": [
  {
   "cell_type": "code",
   "execution_count": 1,
   "id": "a2209280-9e50-4b80-a5b8-dd1992f31ced",
   "metadata": {
    "scrolled": true
   },
   "outputs": [
    {
     "name": "stdout",
     "output_type": "stream",
     "text": [
      "Welcome to the chatbot! Type 'bye' to exit.\n"
     ]
    },
    {
     "name": "stdin",
     "output_type": "stream",
     "text": [
      "You:  Hi\n"
     ]
    },
    {
     "name": "stdout",
     "output_type": "stream",
     "text": [
      "Chatbot: I don't think I know your name. What's your name?\n"
     ]
    },
    {
     "name": "stdin",
     "output_type": "stream",
     "text": [
      "You:  my name is sheetal\n"
     ]
    },
    {
     "name": "stdout",
     "output_type": "stream",
     "text": [
      "Chatbot: Nice to meet you, Sheetal!\n"
     ]
    },
    {
     "name": "stdin",
     "output_type": "stream",
     "text": [
      "You:  nice to meet you too\n"
     ]
    },
    {
     "name": "stdout",
     "output_type": "stream",
     "text": [
      "Chatbot: How old are you, Sheetal?\n"
     ]
    },
    {
     "name": "stdin",
     "output_type": "stream",
     "text": [
      "You:  i am 20 years old\n"
     ]
    },
    {
     "name": "stdout",
     "output_type": "stream",
     "text": [
      "Chatbot: Got it, Sheetal! You're 20 years old.\n"
     ]
    },
    {
     "name": "stdin",
     "output_type": "stream",
     "text": [
      "You:  can you tell me the weather\n"
     ]
    },
    {
     "name": "stdout",
     "output_type": "stream",
     "text": [
      "Chatbot: I'm not connected to live weather data, but it’s always sunny in here!\n"
     ]
    },
    {
     "name": "stdin",
     "output_type": "stream",
     "text": [
      "You:  what is the time \n"
     ]
    },
    {
     "name": "stdout",
     "output_type": "stream",
     "text": [
      "Chatbot: The current time is 20:47.\n"
     ]
    },
    {
     "name": "stdin",
     "output_type": "stream",
     "text": [
      "You:  bye\n"
     ]
    },
    {
     "name": "stdout",
     "output_type": "stream",
     "text": [
      "Chatbot: Goodbye! Take care.\n"
     ]
    }
   ],
   "source": [
    "import re\n",
    "import random\n",
    "import time\n",
    "from datetime import datetime\n",
    "\n",
    "greetings = [\"Hello! How can I help you today?\", \"Hi there! What can I do for you?\", \"Hey! How's it going?\"]\n",
    "farewells = [\"Goodbye! Take care.\", \"See you later!\", \"Goodbye! Have a nice day.\"]\n",
    "default_responses = [\n",
    "    \"I'm not sure how to respond to that. Could you ask something else?\",\n",
    "    \"Can you rephrase your question?\",\n",
    "    \"I didn't understand that, could you elaborate?\",\n",
    "    \"I’m still learning. Could you try asking me in a different way?\"\n",
    "]\n",
    "\n",
    "def typing_response(text):\n",
    "    print(\"Chatbot:\", end=\" \", flush=True)\n",
    "    for char in text:\n",
    "        print(char, end=\"\", flush=True)\n",
    "        time.sleep(0.03) \n",
    "    print()\n",
    "\n",
    "user_info = {\n",
    "    \"name\": None,\n",
    "    \"age\": None,\n",
    "    \"interests\": []\n",
    "}\n",
    "\n",
    "def chatbot_response(user_input):\n",
    "    global user_info\n",
    "\n",
    "    user_input = user_input.lower()\n",
    "\n",
    "    if user_info[\"name\"] is None:\n",
    "        if re.search(r\"\\b(my name is|i am|call me)\\s+(\\w+)\\b\", user_input):\n",
    "            match = re.search(r\"\\b(my name is|i am|call me)\\s+(\\w+)\\b\", user_input)\n",
    "            user_info[\"name\"] = match.group(2).capitalize()\n",
    "            return f\"Nice to meet you, {user_info['name']}!\"\n",
    "        else:\n",
    "            return \"I don't think I know your name. What's your name?\"\n",
    "\n",
    "    if user_info[\"age\"] is None:\n",
    "        if re.search(r\"\\b(i am|i'm)\\s+(\\d+)\\s*years?\\s*old\\b\", user_input):\n",
    "            match = re.search(r\"\\b(i am|i'm)\\s+(\\d+)\\s*years?\\s*old\\b\", user_input)\n",
    "            user_info[\"age\"] = int(match.group(2))\n",
    "            return f\"Got it, {user_info['name']}! You're {user_info['age']} years old.\"\n",
    "        else:\n",
    "            return f\"How old are you, {user_info['name']}?\"\n",
    "\n",
    "    if \"interest\" in user_input or \"like\" in user_input:\n",
    "        interests = re.findall(r\"\\b(interested in|like)\\s+(\\w+)\", user_input)\n",
    "        for _, interest in interests:\n",
    "            user_info[\"interests\"].append(interest)r\n",
    "        return f\"Thanks for sharing! I'll remember that you're interested in {', '.join(user_info['interests'])}.\"\n",
    "\n",
    "    if re.search(r\"\\b(hello|hi|hey)\\b\", user_input):\n",
    "        return random.choice(greetings)\n",
    "        \n",
    "    elif re.search(r\"\\b(how are you|how's it going)\\b\", user_input):\n",
    "        return f\"I'm just a bot, {user_info['name']}, but I'm here to help you!\"\n",
    "\n",
    "    elif re.search(r\"\\b(what is your name|who are you)\\b\", user_input):\n",
    "        return \"I'm your helpful chatbot. You can call me Chatbot!\"\n",
    "\n",
    "    elif re.search(r\"\\b(time|what time is it)\\b\", user_input):\n",
    "        current_time = datetime.now().strftime(\"%H:%M\")\n",
    "        return f\"The current time is {current_time}.\"\n",
    "\n",
    "    elif re.search(r\"\\b(weather|what's the weather)\\b\", user_input):\n",
    "        return \"I'm not connected to live weather data, but it’s always sunny in here!\"\n",
    "\n",
    "    elif re.search(r\"\\bwhat is (\\d+)\\s*([\\+\\-\\*/])\\s*(\\d+)\\b\", user_input):\n",
    "        match = re.search(r\"\\bwhat is (\\d+)\\s*([\\+\\-\\*/])\\s*(\\d+)\\b\", user_input)\n",
    "        num1, operator, num2 = int(match.group(1)), match.group(2), int(match.group(3))\n",
    "        if operator == '+':\n",
    "            return f\"The answer is {num1 + num2}.\"\n",
    "        elif operator == '-':\n",
    "            return f\"The answer is {num1 - num2}.\"\n",
    "        elif operator == '*':\n",
    "            return f\"The answer is {num1 * num2}.\"\n",
    "        elif operator == '/':\n",
    "            return f\"The answer is {num1 / num2}.\"\n",
    "\n",
    "    elif re.search(r\"\\b(who is the president of the united states|current president)\\b\", user_input):\n",
    "        return \"The current President of the United States is Joe Biden.\n",
    "\n",
    "    elif re.search(r\"\\b(bye|exit|goodbye)\\b\", user_input):\n",
    "        return random.choice(farewells)\n",
    "\n",
    "    else:\n",
    "        if user_info[\"interests\"]:\n",
    "            return f\"I remember you’re interested in {', '.join(user_info['interests'])}. Can you tell me more?\"\n",
    "        return random.choice(default_responses)\n",
    "\n",
    "print(\"Welcome to the chatbot! Type 'bye' to exit.\")\n",
    "while True:\n",
    "    user_input = input(\"You: \")\n",
    "    \n",
    "    if re.search(r\"\\b(bye|exit)\\b\", user_input.lower()):\n",
    "        typing_response(random.choice(farewells))\n",
    "        break\n",
    "\n",
    "    response = chatbot_response(user_input)\n",
    "    \n",
    "    typing_response(response)\n"
   ]
  },
  {
   "cell_type": "code",
   "execution_count": null,
   "id": "2f91ddab-2a72-4599-8d1c-d7829595f683",
   "metadata": {},
   "outputs": [],
   "source": []
  }
 ],
 "metadata": {
  "kernelspec": {
   "display_name": "Python 3 (ipykernel)",
   "language": "python",
   "name": "python3"
  },
  "language_info": {
   "codemirror_mode": {
    "name": "ipython",
    "version": 3
   },
   "file_extension": ".py",
   "mimetype": "text/x-python",
   "name": "python",
   "nbconvert_exporter": "python",
   "pygments_lexer": "ipython3",
   "version": "3.12.7"
  }
 },
 "nbformat": 4,
 "nbformat_minor": 5
}
